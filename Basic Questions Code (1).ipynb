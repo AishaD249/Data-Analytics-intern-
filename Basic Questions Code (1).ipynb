{
 "cells": [
  {
   "cell_type": "code",
   "execution_count": null,
   "id": "f5ff78db-79fd-4211-b02e-b31896c4ddbb",
   "metadata": {},
   "outputs": [],
   "source": [
    "#Basic Questions"
   ]
  },
  {
   "cell_type": "code",
   "execution_count": null,
   "id": "d0ecd02c-edf3-4397-a1a0-2f217fb4aa8e",
   "metadata": {},
   "outputs": [],
   "source": [
    "#Q1 Unique Students in the data set "
   ]
  },
  {
   "cell_type": "code",
   "execution_count": 1,
   "id": "3bfe3f97-0f04-4bee-b5b1-255902117f25",
   "metadata": {},
   "outputs": [
    {
     "name": "stdout",
     "output_type": "stream",
     "text": [
      "Count of unique values: 2157\n"
     ]
    }
   ],
   "source": [
    "import pandas as pd\n",
    "\n",
    "df = pd.read_excel(r\"C:\\Users\\91797\\Downloads\\Data analyst Data.xlsx\", sheet_name=\"All Events Data\")\n",
    "\n",
    "unique_count = df[\"Email ID\"].nunique()\n",
    "\n",
    "print(\"Count of unique values:\", unique_count)\n"
   ]
  },
  {
   "cell_type": "code",
   "execution_count": null,
   "id": "8271e36f-cee1-4f00-8a5f-40ba52ff612c",
   "metadata": {},
   "outputs": [],
   "source": [
    "#Q2 Average GPA of all the students "
   ]
  },
  {
   "cell_type": "code",
   "execution_count": 3,
   "id": "d2b63bee-2e20-4ebb-99f4-7564cddff073",
   "metadata": {},
   "outputs": [
    {
     "name": "stdout",
     "output_type": "stream",
     "text": [
      "Average GPA of all students: 8.028233657858136\n"
     ]
    }
   ],
   "source": [
    "import pandas as pd\n",
    "\n",
    "df = pd.read_excel(r\"C:\\Users\\91797\\Downloads\\Data analyst Data.xlsx\", sheet_name=\"All Events Data\")\n",
    "\n",
    "average_gpa = df[\"CGPA\"].mean() \n",
    "\n",
    "print(\"Average GPA of all students:\", average_gpa)\n"
   ]
  },
  {
   "cell_type": "code",
   "execution_count": null,
   "id": "002958d9-4af0-441e-ada7-2ee7df868df3",
   "metadata": {},
   "outputs": [],
   "source": [
    "#Q3 Distribution of students across graduation years"
   ]
  },
  {
   "cell_type": "code",
   "execution_count": 9,
   "id": "6bd9846e-40a1-459a-b10f-1dd21eb21636",
   "metadata": {},
   "outputs": [
    {
     "name": "stdout",
     "output_type": "stream",
     "text": [
      "Distribution of students across graduation years:\n",
      "Year of Graduation\n",
      "2023    676\n",
      "2024    679\n",
      "2025    565\n",
      "2026    237\n",
      "Name: count, dtype: int64\n"
     ]
    }
   ],
   "source": [
    "import pandas as pd\n",
    "\n",
    "df = pd.read_excel(r\"C:\\Users\\91797\\Downloads\\Data analyst Data.xlsx\", sheet_name=\"All Events Data\")\n",
    "\n",
    "graduation_year_distribution = df[\"Year of Graduation\"].value_counts().sort_index()\n",
    "\n",
    "print(\"Distribution of students across graduation years:\")\n",
    "print(graduation_year_distribution)\n",
    "\n"
   ]
  },
  {
   "cell_type": "code",
   "execution_count": null,
   "id": "1e8f95d1-519e-435b-a39e-a0b668a6c9aa",
   "metadata": {},
   "outputs": [],
   "source": [
    "#Q4 Distribution of students experience with Python programming"
   ]
  },
  {
   "cell_type": "code",
   "execution_count": 11,
   "id": "c436764a-b12f-4bd0-a26a-e00bc127ba6c",
   "metadata": {},
   "outputs": [
    {
     "name": "stdout",
     "output_type": "stream",
     "text": [
      "Distribution of students experience with Python programming :\n",
      "Experience with python (Months)\n",
      "3    434\n",
      "4    366\n",
      "5    554\n",
      "6    171\n",
      "7    503\n",
      "8    129\n",
      "Name: count, dtype: int64\n"
     ]
    }
   ],
   "source": [
    "import pandas as pd\n",
    "\n",
    "df = pd.read_excel(r\"C:\\Users\\91797\\Downloads\\Data analyst Data.xlsx\", sheet_name=\"All Events Data\")\n",
    "\n",
    "\n",
    "python_experience_distribution = df[\"Experience with python (Months)\"].value_counts().sort_index()\n",
    "\n",
    "print(\"Distribution of students experience with Python programming :\")\n",
    "print(python_experience_distribution)\n"
   ]
  },
  {
   "cell_type": "code",
   "execution_count": null,
   "id": "ec3c7a7c-d9a9-4b5b-8279-7fd579ec88f5",
   "metadata": {},
   "outputs": [],
   "source": [
    "#Q5 Average family income of all students"
   ]
  },
  {
   "cell_type": "code",
   "execution_count": 13,
   "id": "e3bc177d-b505-4e3c-ac18-a3608d9e9423",
   "metadata": {},
   "outputs": [
    {
     "name": "stdout",
     "output_type": "stream",
     "text": [
      "Average family income of all students: 3.7918405192396847\n"
     ]
    }
   ],
   "source": [
    "import pandas as pd\n",
    "import numpy as np\n",
    "\n",
    "df = pd.read_excel(r\"C:\\Users\\91797\\Downloads\\Data analyst Data.xlsx\", sheet_name=\"All Events Data\")\n",
    "\n",
    "df[\"Family Income\"] = df[\"Family Income\"].replace(r'[^\\d.]', '', regex=True) \n",
    "df[\"Family Income\"] = pd.to_numeric(df[\"Family Income\"], errors='coerce')  \n",
    "\n",
    "average_family_income = df[\"Family Income\"].mean()\n",
    "\n",
    "print(\"Average family income of all students:\", average_family_income)\n"
   ]
  },
  {
   "cell_type": "code",
   "execution_count": null,
   "id": "3aabf54d-c2a7-482d-ae25-d32adb256859",
   "metadata": {},
   "outputs": [],
   "source": [
    "#Q6 GPA variation among students in top 5 colleges"
   ]
  },
  {
   "cell_type": "code",
   "execution_count": 15,
   "id": "bd98fe89-65ef-408a-ac45-ba4dc66474bb",
   "metadata": {},
   "outputs": [
    {
     "name": "stdout",
     "output_type": "stream",
     "text": [
      "College Name\n",
      "St Xavier's College                                                                  8.795000\n",
      "New horizon institute of Technology and Management                                   8.611765\n",
      "B. K. Birla College of Arts, Science & Commerce (Autonomous), Kalyan                 8.566667\n",
      "AP SHAH INSTITUTE OF TECHNOLOGY                                                      8.360000\n",
      "THAKUR INSTITUTE OF MANAGEMENT STUDIES, CAREER DEVELOPMENT & RESEARCH - [TIMSCDR]    8.325000\n",
      "Name: CGPA, dtype: float64\n"
     ]
    }
   ],
   "source": [
    "import pandas as pd\n",
    "\n",
    "df = pd.read_excel(r\"C:\\Users\\91797\\Downloads\\Data analyst Data.xlsx\", sheet_name=\"All Events Data\")\n",
    "\n",
    "average_gpa_by_college = df.groupby(\"College Name\")[\"CGPA\"].mean()\n",
    "\n",
    "top_5_colleges = average_gpa_by_college.sort_values(ascending=False).head(5)\n",
    "\n",
    "print(top_5_colleges)\n",
    "\n"
   ]
  },
  {
   "cell_type": "code",
   "execution_count": null,
   "id": "129a9a75-61ab-4d42-86f4-502f876d9941",
   "metadata": {},
   "outputs": [],
   "source": [
    "#Q7 Outliers in the quantity "
   ]
  },
  {
   "cell_type": "code",
   "execution_count": 17,
   "id": "6a0df6d7-e936-4347-b5f1-8316adb7d9d3",
   "metadata": {},
   "outputs": [
    {
     "name": "stdout",
     "output_type": "stream",
     "text": [
      "Empty DataFrame\n",
      "Columns: [First Name, Email ID, Quantity, Events, Attendee Status, College Name, How did you come to know about this event?, Specify in \"Others\" (how did you come to know about this event), Designation, Year of Graduation, City, CGPA, Experience with python (Months), Family Income, Expected salary (Lac), Leadership- skills]\n",
      "Index: []\n"
     ]
    }
   ],
   "source": [
    "import pandas as pd\n",
    "\n",
    "df = pd.read_excel(r\"C:\\Users\\91797\\Downloads\\Data analyst Data.xlsx\", sheet_name=\"All Events Data\")\n",
    "\n",
    "Q1 = df[\"Quantity\"].quantile(0.25)\n",
    "Q3 = df[\"Quantity\"].quantile(0.75)\n",
    "\n",
    "IQR = Q3 - Q1\n",
    "\n",
    "lower_bound = Q1 - 1.5 * IQR\n",
    "upper_bound = Q3 + 1.5 * IQR\n",
    "\n",
    "outliers = df[(df[\"Quantity\"] < lower_bound) | (df[\"Quantity\"] > upper_bound)]\n",
    "\n",
    "print(outliers)\n"
   ]
  },
  {
   "cell_type": "code",
   "execution_count": null,
   "id": "1d476214-b6ea-4239-a8e3-c384a989a469",
   "metadata": {},
   "outputs": [],
   "source": [
    "#Q8 Top 5 cities in terms of CGPA"
   ]
  },
  {
   "cell_type": "code",
   "execution_count": 19,
   "id": "cd8b5d93-e40b-4c8b-bdc7-62701fde7064",
   "metadata": {},
   "outputs": [
    {
     "name": "stdout",
     "output_type": "stream",
     "text": [
      "City\n",
      "Delhi      9.014286\n",
      "Raipur     8.980000\n",
      "Sonipat    8.712500\n",
      "konark     8.540000\n",
      "Karnal     8.533333\n",
      "Name: CGPA, dtype: float64\n"
     ]
    }
   ],
   "source": [
    "import pandas as pd\n",
    "\n",
    "# Load the data\n",
    "df = pd.read_excel(r\"C:\\Users\\91797\\Downloads\\Data analyst Data.xlsx\", sheet_name=\"All Events Data\")\n",
    "\n",
    "# Group by 'City' and calculate the average 'CGPA' for each city\n",
    "average_gpa_by_city = df.groupby(\"City\")[\"CGPA\"].mean()\n",
    "\n",
    "# Get the top 5 cities with the highest average GPA\n",
    "top_5_cities = average_gpa_by_city.nlargest(5)\n",
    "\n",
    "# Display the results\n",
    "print(top_5_cities)\n",
    "\n"
   ]
  },
  {
   "cell_type": "code",
   "execution_count": null,
   "id": "3c712f9c-11f3-4f95-bf97-7e218f0a3faf",
   "metadata": {},
   "outputs": [],
   "source": [
    "#Q9 Relation between family income and GPA"
   ]
  },
  {
   "cell_type": "code",
   "execution_count": 21,
   "id": "f705fcc7-3782-44c1-af88-277c32eb7fc8",
   "metadata": {},
   "outputs": [
    {
     "name": "stdout",
     "output_type": "stream",
     "text": [
      "Pearson correlation between Family Income and GPA: -0.03599326109352764\n"
     ]
    },
    {
     "data": {
      "image/png": "[encoded data removed]",
      "text/plain": [
       "<Figure size 1000x600 with 1 Axes>"
      ]
     },
     "metadata": {},
     "output_type": "display_data"
    }
   ],
   "source": [
    "import pandas as pd\n",
    "import matplotlib.pyplot as plt\n",
    "import seaborn as sns\n",
    "\n",
    "# Load the data\n",
    "df = pd.read_excel(r\"C:\\Users\\91797\\Downloads\\Data analyst Data.xlsx\", sheet_name=\"All Events Data\")\n",
    "\n",
    "# Clean the \"Family Income\" column by removing ' Lakh' and non-numeric characters (e.g., '7+')\n",
    "df[\"Family Income\"] = df[\"Family Income\"].str.replace(\" Lakh\", \"\").str.replace(r'\\D', '', regex=True)\n",
    "\n",
    "# Convert to float, and handle errors by coercing invalid values to NaN\n",
    "df[\"Family Income\"] = pd.to_numeric(df[\"Family Income\"], errors='coerce')\n",
    "\n",
    "# Clean the \"CGPA\" column in case it has non-numeric values\n",
    "df[\"CGPA\"] = pd.to_numeric(df[\"CGPA\"], errors='coerce')\n",
    "\n",
    "# Calculate the Pearson correlation coefficient between Family Income and CGPA\n",
    "correlation = df[\"Family Income\"].corr(df[\"CGPA\"])\n",
    "\n",
    "# Display the correlation\n",
    "print(f\"Pearson correlation between Family Income and GPA: {correlation}\")\n",
    "\n",
    "# Plot the relationship using a scatter plot\n",
    "plt.figure(figsize=(10, 6))\n",
    "sns.scatterplot(x=\"Family Income\", y=\"CGPA\", data=df)\n",
    "plt.title(\"Relationship between Family Income and GPA\")\n",
    "plt.xlabel(\"Family Income (in Lakhs)\")\n",
    "plt.ylabel(\"GPA\")\n",
    "plt.show()\n"
   ]
  },
  {
   "cell_type": "code",
   "execution_count": null,
   "id": "32fcea7d-dd85-4b6d-9d83-b9c52a2d3efe",
   "metadata": {},
   "outputs": [],
   "source": []
  }
 ],
 "metadata": {
  "kernelspec": {
   "display_name": "Python 3 (ipykernel)",
   "language": "python",
   "name": "python3"
  },
  "language_info": {
   "codemirror_mode": {
    "name": "ipython",
    "version": 3
   },
   "file_extension": ".py",
   "mimetype": "text/x-python",
   "name": "python",
   "nbconvert_exporter": "python",
   "pygments_lexer": "ipython3",
   "version": "3.11.7"
  }
 },
 "nbformat": 4,
 "nbformat_minor": 5
}
